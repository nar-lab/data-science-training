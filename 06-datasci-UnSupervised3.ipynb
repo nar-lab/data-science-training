{
 "cells": [
  {
   "cell_type": "markdown",
   "metadata": {},
   "source": [
    "# ADVANCED ANALYTICS 2018\n",
    "_Author: Ali Çabukel_"
   ]
  },
  {
   "cell_type": "markdown",
   "metadata": {},
   "source": [
    "### Expectation Maximization\n",
    "\n",
    "EM can be used for hidden information and component extraction\n",
    "\n",
    "Assume that you have a dataset except gender variable\n",
    "\n",
    "You can use EM clustering to find most likely gender using some behavioral known features. These features must show significant distribution for gender\n",
    "\n",
    "EM algorithms is an iterative process until convergence and has two steps as follows:\n",
    "+ E step: Set (Init once) distr. parameters (mu,sigma for gaussian) and update hypothesis\n",
    "+ M step: Update distr. parameters and set hypothesis"
   ]
  },
  {
   "cell_type": "markdown",
   "metadata": {},
   "source": [
    "![em1](125.jpg)"
   ]
  },
  {
   "cell_type": "markdown",
   "metadata": {},
   "source": [
    "![em2](126.png)"
   ]
  },
  {
   "cell_type": "markdown",
   "metadata": {},
   "source": [
    "![em3](127.jpg)"
   ]
  }
 ],
 "metadata": {
  "kernelspec": {
   "display_name": "Python 3",
   "language": "python",
   "name": "python3"
  },
  "language_info": {
   "codemirror_mode": {
    "name": "ipython",
    "version": 3
   },
   "file_extension": ".py",
   "mimetype": "text/x-python",
   "name": "python",
   "nbconvert_exporter": "python",
   "pygments_lexer": "ipython3",
   "version": "3.6.5"
  }
 },
 "nbformat": 4,
 "nbformat_minor": 2
}
