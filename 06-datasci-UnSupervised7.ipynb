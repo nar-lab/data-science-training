{
 "cells": [
  {
   "cell_type": "markdown",
   "metadata": {},
   "source": [
    "# ADVANCED ANALYTICS 2018\n",
    "_Author: Ali Çabukel_"
   ]
  },
  {
   "cell_type": "markdown",
   "metadata": {},
   "source": [
    "### Collaborative Filtering\n",
    "\n",
    "CF is a useful tool for recommendation engine. The algorithm tries to find similar user groups using collaboration of user's behaviors and interests like rating, voting, offer acceptance\n",
    "\n",
    "There is 3 types of recommender system: \n",
    "- Content-based filtering: using product contents, text processing and clustering\n",
    "- Memory-based CF: using similarity metrics like cosine similarity, jackard index, also neighborhood\n",
    "- Model-based CF: using matrix factorization/decomposition techniques like PCA, SVD, NMF, ALS\n",
    "\n",
    "If you have not ratings (explicit database) for products, you can create your proxy feature (using implicit databae) like RFM score or offer acceptance result\n",
    "\n"
   ]
  },
  {
   "cell_type": "markdown",
   "metadata": {},
   "source": [
    "![cf1](134.png)"
   ]
  },
  {
   "cell_type": "markdown",
   "metadata": {},
   "source": [
    "![cf2](135.jpg)"
   ]
  },
  {
   "cell_type": "markdown",
   "metadata": {},
   "source": [
    "![cf3](136.jpg)"
   ]
  },
  {
   "cell_type": "markdown",
   "metadata": {},
   "source": [
    "![cf4](137.png)"
   ]
  }
 ],
 "metadata": {
  "kernelspec": {
   "display_name": "Python 3",
   "language": "python",
   "name": "python3"
  },
  "language_info": {
   "codemirror_mode": {
    "name": "ipython",
    "version": 3
   },
   "file_extension": ".py",
   "mimetype": "text/x-python",
   "name": "python",
   "nbconvert_exporter": "python",
   "pygments_lexer": "ipython3",
   "version": "3.6.5"
  }
 },
 "nbformat": 4,
 "nbformat_minor": 2
}
