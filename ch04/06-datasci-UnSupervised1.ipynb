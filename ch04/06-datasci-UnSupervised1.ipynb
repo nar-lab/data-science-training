{
 "cells": [
  {
   "cell_type": "markdown",
   "metadata": {},
   "source": [
    "# ADVANCED ANALYTICS 2018\n",
    "_Author: Ali Çabukel_"
   ]
  },
  {
   "cell_type": "markdown",
   "metadata": {},
   "source": [
    "## Unsupervised Learning\n",
    "The learning system can be used for clustering, association, anomaly detection, recommendation and social network analysis\n",
    "\n",
    "You can apply for explorative data analysis and hypothesis investigation rather than predictive modelling.\n",
    "\n",
    "There is no common testing methods for unsupervised learning, but you can apply some techniques like silhouette test or cross validatation your model using other features.\n",
    "\n",
    "### K-means Clustering\n",
    "\n",
    "It is a common task for clustering, customer segmentation/profiling also can be used for anomaly detection.\n",
    "\n",
    "You need to define cluster size (k) initially. Can be used elbow graph to choose optimal k\n",
    "\n",
    "The algorithm tries to seperate data points into k groups which are the nearest observation in group (inter-class) and farthest distance between groups (intra-class)\n",
    "\n",
    "The distance metrics, euclidean, cosine similarity, can be used\n",
    "\n",
    "You can use hierarchical (tree structure, dendogram representation) k-means\n",
    "\n",
    "Outlier can lead k-means clustering, also initial potins are randomly selected. So you can get different results for each execution of the algorithm with the same data and same settings."
   ]
  },
  {
   "cell_type": "markdown",
   "metadata": {},
   "source": [
    "![K-means Convergence](../img/ch04/unsupervised1/1.png)"
   ]
  },
  {
   "cell_type": "markdown",
   "metadata": {},
   "source": [
    "![Hierarchical K-means](../img/ch04/unsupervised1/2.jpg)"
   ]
  },
  {
   "cell_type": "markdown",
   "metadata": {},
   "source": [
    "![Types of Clustering](../img/ch04/unsupervised1/3.jpg)"
   ]
  },
  {
   "cell_type": "markdown",
   "metadata": {},
   "source": [
    "### Cosine Simiilarity\n",
    "In vector space model, you can find similarity for two different vectors using cosinus.\n",
    "\n",
    "You can use the cosine similarity metric in many unsupervised learning technique like document clustering, collaborative filtering.\n",
    "\n",
    "You just need to represent the variables as vectors like word, item list, word list..."
   ]
  },
  {
   "cell_type": "markdown",
   "metadata": {},
   "source": [
    "![Vector Space Model](../img/ch04/unsupervised1/4.png)"
   ]
  },
  {
   "cell_type": "markdown",
   "metadata": {},
   "source": [
    "![Cosine Similarity](../img/ch04/unsupervised1/5.png)"
   ]
  },
  {
   "cell_type": "markdown",
   "metadata": {},
   "source": [
    "![Similarity of Vectors](../img/ch04/unsupervised1/6.png)"
   ]
  },
  {
   "cell_type": "markdown",
   "metadata": {},
   "source": [
    "![Cosine Similarity Overview](../img/ch04/unsupervised1/7.jpg)"
   ]
  }
 ],
 "metadata": {
  "kernelspec": {
   "display_name": "Python 3",
   "language": "python",
   "name": "python3"
  },
  "language_info": {
   "codemirror_mode": {
    "name": "ipython",
    "version": 3
   },
   "file_extension": ".py",
   "mimetype": "text/x-python",
   "name": "python",
   "nbconvert_exporter": "python",
   "pygments_lexer": "ipython3",
   "version": "3.6.5"
  }
 },
 "nbformat": 4,
 "nbformat_minor": 2
}
