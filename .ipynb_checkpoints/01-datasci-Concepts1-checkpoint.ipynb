{
 "cells": [
  {
   "cell_type": "markdown",
   "metadata": {},
   "source": [
    "# ADVANCED ANALYTICS 2018\n",
    "_Ali Çabukel - Gtech_"
   ]
  },
  {
   "cell_type": "markdown",
   "metadata": {},
   "source": [
    "## Basic Concepts\n",
    "### Business Intelligence vs. Advanced Analytics\n",
    "- Traditional BI interests in the questions using past events.\n",
    "- Advanced Analytics try to find the reasons of events, also extract an equation or rule set to cacth next events using historical data. \n",
    "\n",
    "### Types of Business Analytics\n",
    "+ Descriptive Analytics\n",
    "+ Diagnostic Analytics\n",
    "+ __Predictive Analytics__\n",
    "+ Prescriptive Analytics\n",
    "\n",
    "### Data Science Definiton and Skillset\n",
    "Evey __Data Scientist__ should be specialized in the following areas:\n",
    "- Math and Statistics\n",
    "- Domain Knowledge\n",
    "- Computing Skills\n",
    "\n",
    "### Artificial Intelligence\n",
    "- Artificial Intelligence focuses on robotics and machines which have human functions like understanding what it sees, listens and also reactions.\n",
    "- Machine Learning means the theories of learning experiments from data.\n",
    "- Deep Learning's main objective is to process language, images, audios using deep, huge neural networks as human brain\n",
    "\n",
    "### Deep Machine Learning\n",
    "We need to extract new features and informations while creating model manually. Deep Learning will provide automated feature extraction in the modelling phase.\n"
   ]
  },
  {
   "cell_type": "markdown",
   "metadata": {},
   "source": [
    "![\"Image1\"](1.png)"
   ]
  },
  {
   "cell_type": "markdown",
   "metadata": {},
   "source": [
    "![Traditional Programming vs. Machine Learning](2.jpg)"
   ]
  },
  {
   "cell_type": "markdown",
   "metadata": {},
   "source": [
    "![Evo of ML](3.png)"
   ]
  },
  {
   "cell_type": "markdown",
   "metadata": {},
   "source": [
    "![Types of BA](4.jpg)"
   ]
  },
  {
   "cell_type": "markdown",
   "metadata": {},
   "source": [
    "![Types of BA](5.png)"
   ]
  },
  {
   "cell_type": "markdown",
   "metadata": {},
   "source": [
    "![Data Science Definition](6.jpg)"
   ]
  },
  {
   "cell_type": "markdown",
   "metadata": {},
   "source": [
    "![Data Scientist Skill Set](7.jpg)"
   ]
  },
  {
   "cell_type": "markdown",
   "metadata": {},
   "source": [
    "![Data Science Puzzle](8.jpg)"
   ]
  },
  {
   "cell_type": "markdown",
   "metadata": {},
   "source": [
    "![Quick Definitions](9.jpg)"
   ]
  },
  {
   "cell_type": "markdown",
   "metadata": {},
   "source": [
    "![AI, ML and DL](10.jpg)"
   ]
  },
  {
   "cell_type": "markdown",
   "metadata": {},
   "source": [
    "![Deep Learning](11.png)"
   ]
  },
  {
   "cell_type": "markdown",
   "metadata": {},
   "source": [
    "![Machine Learning 3.0](12.png)"
   ]
  },
  {
   "cell_type": "markdown",
   "metadata": {},
   "source": [
    "![Big Data Landscape 2018](13.jpg)"
   ]
  }
 ],
 "metadata": {
  "kernelspec": {
   "display_name": "Python 3",
   "language": "python",
   "name": "python3"
  },
  "language_info": {
   "codemirror_mode": {
    "name": "ipython",
    "version": 3
   },
   "file_extension": ".py",
   "mimetype": "text/x-python",
   "name": "python",
   "nbconvert_exporter": "python",
   "pygments_lexer": "ipython3",
   "version": "3.6.5"
  }
 },
 "nbformat": 4,
 "nbformat_minor": 2
}
