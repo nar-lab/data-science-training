{
 "cells": [
  {
   "cell_type": "markdown",
   "metadata": {},
   "source": [
    "# ADVANCED ANALYTICS 2018\n",
    "- Basic Concepts\n",
    "    + Business Intelligence vs. Advanced Analytics\n",
    "    + Traditional Computing vs. Machine Learning\n",
    "    + Evolution of Machine Learning\n",
    "    + Types of Business Analytics\n",
    "    + Data Science Definition and Skillset\n",
    "    + Data Science Puzzle\n",
    "    + Short Definitions\n",
    "    + Artificial Intelligence\n",
    "    + Deep Machine Learning\n",
    "    + Machine Learning 3.0\n",
    "    + Big Data Landscape 2018\n",
    "- Advanced Analytics Lifecycle\n",
    "    + Solution Building Lifecycle\n",
    "    + Machine Learning Lifecycle\n",
    "- Common Business Problems\n",
    "    + Potential Problems\n",
    "- Types of Machine Learning\n",
    "    + Learning Types\n",
    "- Rich Data Formats\n",
    "    + New Generation Data\n",
    "    + Diverse Data Sources\n",
    "    + Structured Data Shape and Feature Roles\n",
    "- Data Preparation\n",
    "    + ETL and Data Pre-processing\n",
    "    + Data Quality and Missing Values\n",
    "    + One-hot Encoding\n",
    "- Exploratory Data Analysis and Feature Engineering\n",
    "    + Gaussian Distribution and Histogram\n",
    "    + Inter-Quantile Range and Boxplot\n",
    "    + Standardization and Normalization\n",
    "    + Discretization and Binning\n",
    "    + Dimensionality Reduction and Feature Extraction\n",
    "    + Principal Component Analysis\n",
    "    + Singular Value Decomposition\n",
    "    + Non-negative Matrix Factorization\n",
    "    + Feature Derivation\n",
    "    + Predictive Modelling and Data Leakage\n",
    "- Supervised Learning\n",
    "    + Regression\n",
    "    + Linear Regression Hands-on solution\n",
    "    + Gradient Descent\n",
    "    + Logistic Regression\n",
    "    + Evaluation of Classification\n",
    "    + Bias-Variance Tradeoff\n",
    "    + Regularization, Feature-Model Selection\n",
    "    + Perceptron\n",
    "    + Multi-layer Perceptron\n",
    "    + Feed Forward Neural Networks\n",
    "    + Backpropogration\n",
    "    + Deep Neural Networks\n",
    "    + Naive Bayes\n",
    "    + Decision Trees\n",
    "    + Support Vector Machines\n",
    "    + k-Nearest Neighbors\n",
    "- Unsupervised Learning\n",
    "    + K-means Clustering\n",
    "    + Cosine Simiilarity\n",
    "    + Density Based Scan Clustering\n",
    "    + Expectation Maximization\n",
    "    + Orthogonal Partitioning\n",
    "    + Anomaly Detection - One-class SVM\n",
    "    + Apriori\n",
    "    + Collaborative Filtering\n",
    "    + Social Network Analysis\n",
    "\n",
    "\n"
   ]
  },
  {
   "cell_type": "markdown",
   "metadata": {},
   "source": [
    "## Basic Concepts"
   ]
  },
  {
   "cell_type": "markdown",
   "metadata": {},
   "source": [
    "### Business Intelligence vs. Advanced Analytics\n",
    "- Traditional BI interests in the questions using past events.\n",
    "- Advanced Analytics try to find the reasons of events, also extract an equation or rule set to cacth next events using historical data. "
   ]
  },
  {
   "cell_type": "markdown",
   "metadata": {},
   "source": [
    "![\"Image1\"](1.png)"
   ]
  },
  {
   "cell_type": "markdown",
   "metadata": {},
   "source": [
    "### Traditional Computing vs. Machine Learning"
   ]
  },
  {
   "cell_type": "markdown",
   "metadata": {},
   "source": [
    "![Traditional Programming vs. Machine Learning](2.jpg)"
   ]
  },
  {
   "cell_type": "markdown",
   "metadata": {},
   "source": [
    "### Evolution of Machine Learning"
   ]
  },
  {
   "cell_type": "markdown",
   "metadata": {},
   "source": [
    "![Evo of ML](3.png)"
   ]
  },
  {
   "cell_type": "markdown",
   "metadata": {},
   "source": [
    "### Types of Business Analytics\n",
    "+ Descriptive Analytics\n",
    "+ Diagnostic Analytics\n",
    "+ __Predictive Analytics__\n",
    "+ Prescriptive Analytics"
   ]
  },
  {
   "cell_type": "markdown",
   "metadata": {},
   "source": [
    "![Types of BA](4.jpg)"
   ]
  },
  {
   "cell_type": "markdown",
   "metadata": {},
   "source": [
    "![Types of BA](5.png)"
   ]
  },
  {
   "cell_type": "markdown",
   "metadata": {},
   "source": [
    "### Data Science Definiton and Skillset\n",
    "Evey __Data Scientist__ should be specialized in the following areas:\n",
    "- Math and Statistics\n",
    "- Domain Knowledge\n",
    "- Computing Skills"
   ]
  },
  {
   "cell_type": "markdown",
   "metadata": {},
   "source": [
    "![Data Science Definition](6.jpg)"
   ]
  },
  {
   "cell_type": "markdown",
   "metadata": {},
   "source": [
    "![Data Scientist Skill Set](7.jpg)"
   ]
  },
  {
   "cell_type": "markdown",
   "metadata": {},
   "source": [
    "### Data Science Puzzle"
   ]
  },
  {
   "cell_type": "markdown",
   "metadata": {},
   "source": [
    "![Data Science Puzzle](8.jpg)"
   ]
  },
  {
   "cell_type": "markdown",
   "metadata": {},
   "source": [
    "### Short Definitions"
   ]
  },
  {
   "cell_type": "markdown",
   "metadata": {},
   "source": [
    "![Quick Definitions](9.jpg)"
   ]
  },
  {
   "cell_type": "markdown",
   "metadata": {},
   "source": [
    "### Artificial Intelligence\n",
    "- Artificial Intelligence focuses on robotics and machines which have human functions like understanding what it sees, listens and also reactions.\n",
    "- Machine Learning means the theories of learning experiments from data.\n",
    "- Deep Learning's main objective is to process language, images, audios using deep, huge neural networks as human brain"
   ]
  },
  {
   "cell_type": "markdown",
   "metadata": {},
   "source": [
    "![AI, ML and DL](10.jpg)"
   ]
  },
  {
   "cell_type": "markdown",
   "metadata": {},
   "source": [
    "### Deep Machine Learning\n",
    "We need to extract new features and informations while creating model manually. Deep Learning will provide automated feature extraction in the modelling phase."
   ]
  },
  {
   "cell_type": "markdown",
   "metadata": {},
   "source": [
    "![Deep Learning](11.png)"
   ]
  },
  {
   "cell_type": "markdown",
   "metadata": {},
   "source": [
    "### Machine Learning 3.0"
   ]
  },
  {
   "cell_type": "markdown",
   "metadata": {},
   "source": [
    "![Machine Learning 3.0](12.png)"
   ]
  },
  {
   "cell_type": "markdown",
   "metadata": {},
   "source": [
    "### Big Data Landscape 2018"
   ]
  },
  {
   "cell_type": "markdown",
   "metadata": {},
   "source": [
    "![Big Data Landscape 2018](13.jpg)"
   ]
  }
 ],
 "metadata": {
  "kernelspec": {
   "display_name": "Python 3",
   "language": "python",
   "name": "python3"
  },
  "language_info": {
   "codemirror_mode": {
    "name": "ipython",
    "version": 3
   },
   "file_extension": ".py",
   "mimetype": "text/x-python",
   "name": "python",
   "nbconvert_exporter": "python",
   "pygments_lexer": "ipython3",
   "version": "3.6.6"
  }
 },
 "nbformat": 4,
 "nbformat_minor": 2
}
