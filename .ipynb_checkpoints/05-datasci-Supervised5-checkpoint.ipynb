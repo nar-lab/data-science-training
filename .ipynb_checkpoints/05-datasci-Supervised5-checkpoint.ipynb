{
 "cells": [
  {
   "cell_type": "markdown",
   "metadata": {},
   "source": [
    "# ADVANCED ANALYTICS 2018\n",
    "_Ali Çabukel - Gtech_"
   ]
  },
  {
   "cell_type": "markdown",
   "metadata": {},
   "source": [
    "### Perceptron\n",
    "- Perceptron is the single unit of neural networks, called as neuron\n",
    "- Every perceptron has an input and output layer, also sum of weighted (parameters) inputs is passed to a step unit function\n",
    "- There is some alternative activation functions as follows:\n",
    "    + Sigmoid function for binary classification\n",
    "    + Tanh function for linear problems\n",
    "    + Softmax can be used for multi-class classification\n",
    "    + Relu\n",
    "- Output layer can be one or more cell across problem types\n",
    "    + For binary class: one output cell (True/False, switch)\n",
    "    + For multi-class: more than one cell (Like hand-written digit problems, 10 class)\n",
    "    + For continous target: house prices\n",
    "- The structure is very similar with regression\n",
    "- The concept of perceptron (neuron) based on human brain structure\n",
    "\n",
    "http://sebastianraschka.com/Articles/2015_singlelayer_neurons.html\n",
    "\n",
    "### Multi-Layer Perceptron\n",
    "XOR problem: Single neuron perceptron can not seperate some battern as below.\n",
    "\n",
    "- We can use multi perceptron (neuron), also multi hidden layers in artificial neural networks.\n",
    "- Every single neuron's calculation process is exactly same. (weight * theta)\n",
    "- We can find optimal weights using gradient descent\n",
    "- Deep learning is a type of neural networks, which is a huge networks including lots of neurons and hidden layers\n",
    "- Types of Neural Networks:\n",
    "    + Feed Forward\n",
    "    + Backpropogation\n",
    "    + Recurrent Neural Networks, LSTM\n",
    "    + Convolutional Neural Networks\n",
    "    + Generative Adversarial Neural Networks...\n",
    "- MLP incldes the following layers:\n",
    "    + Input Layer\n",
    "    + Hidden Layer(s)\n",
    "    + Output Layer\n",
    "\n",
    "https://www.analyticsvidhya.com/blog/2017/05/neural-network-from-scratch-in-python-and-r/\n",
    "\n",
    "http://www.asimovinstitute.org/neural-network-zoo/\n",
    "\n",
    "https://becominghuman.ai/cheat-sheets-for-ai-neural-networks-machine-learning-deep-learning-big-data-678c51b4b463\n",
    "\n",
    "Even artificial and deep neural networks is considered as the state of the art machine learning tecnique, it has some disadvantages as follows:\n",
    "- Required huge data\n",
    "- Required huge computation power, mostly GPU\n",
    "- Required long training time \n",
    "- Hard to understand and interpret the model results, block-box logic\n",
    "\n",
    "https://arxiv.org/abs/1801.00631\n",
    "\n",
    "### Deep Neural Networks\n",
    "Can be used for language processing, machine translation, time series forecasting, image classification, pattern recognation, computer vision, gaming, audio processing and fake image detection\n",
    "\n",
    "You can find datasets, also pre-trained deep learning models for common problems like image classification using web, also you can use the pre-trained model for scoring. The method is called as \"trasfer learning\"\n",
    "- http://karpathy.github.io/2015/05/21/rnn-effectiveness/\n",
    "- http://colah.github.io/posts/2015-08-Understanding-LSTMs/\n",
    "- https://medium.com/@taposhdr/medical-image-analysis-with-deep-learning-i-23d518abf531\n",
    "- http://bigtheta.io/2017/04/06/notes-on-lstms-in-finance.html\n",
    "- https://oshearesearch.com/index.php/2016/07/01/mnist-generative-adversarial-model-in-keras/\n",
    "- https://chatbotslife.com/deep-learning-in-7-lines-of-code-7879a8ef8cfb\n",
    "- https://rpubs.com/zkajdan/279967\n",
    "- https://randomekek.github.io/deep/deeplearning.html\n",
    "- https://rylanschaeffer.github.io/content/research/one_shot_learning_with_memory_augmented_nn/main.html\n",
    "- https://adeshpande3.github.io/adeshpande3.github.io/Deep-Learning-Research-Review-Week-3-Natural-Language-Processing\n",
    "- https://towardsdatascience.com/deep-learning-with-tensorflow-part-3-music-and-text-generation-8a3fbfdc5e9b\n",
    "- https://www.analyticsvidhya.com/blog/2018/03/comprehensive-collection-deep-learning-datasets/\n",
    "- http://deeplearning.net/datasets/\n",
    "- https://adeshpande3.github.io/The-9-Deep-Learning-Papers-You-Need-To-Know-About.html"
   ]
  },
  {
   "cell_type": "markdown",
   "metadata": {},
   "source": [
    "![perc1](91.png)"
   ]
  },
  {
   "cell_type": "markdown",
   "metadata": {},
   "source": [
    "![perc2](92.png)"
   ]
  },
  {
   "cell_type": "markdown",
   "metadata": {},
   "source": [
    "![xor](93.jpg)"
   ]
  },
  {
   "cell_type": "markdown",
   "metadata": {},
   "source": [
    "![nn](94.png)"
   ]
  },
  {
   "cell_type": "markdown",
   "metadata": {},
   "source": [
    "![nn1](95.png)"
   ]
  },
  {
   "cell_type": "markdown",
   "metadata": {},
   "source": [
    "![nn2](96.png)"
   ]
  },
  {
   "cell_type": "markdown",
   "metadata": {},
   "source": [
    "![bp](97.png)"
   ]
  }
 ],
 "metadata": {
  "kernelspec": {
   "display_name": "Python 3",
   "language": "python",
   "name": "python3"
  },
  "language_info": {
   "codemirror_mode": {
    "name": "ipython",
    "version": 3
   },
   "file_extension": ".py",
   "mimetype": "text/x-python",
   "name": "python",
   "nbconvert_exporter": "python",
   "pygments_lexer": "ipython3",
   "version": "3.6.5"
  }
 },
 "nbformat": 4,
 "nbformat_minor": 2
}
