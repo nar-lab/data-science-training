{
 "cells": [
  {
   "cell_type": "markdown",
   "metadata": {},
   "source": [
    "# ADVANCED ANALYTICS 2018\n",
    "_Ali Çabukel - Gtech_"
   ]
  },
  {
   "cell_type": "markdown",
   "metadata": {},
   "source": [
    "## Unsupervised Learning\n",
    "The learning system can be used for clustering, association, anomaly detection, recommendation and social network analysis\n",
    "\n",
    "You can apply for explorative data analysis and hypothesis investigation rather than predictive modelling.\n",
    "\n",
    "There is no common testing methods for unsupervised learning, but you can apply some techniques like silhouette test or cross validatation your model using other features.\n",
    "\n",
    "### K-means Clustering\n",
    "\n",
    "It is a common task for clustering, customer segmentation/profiling also can be used for anomaly detection.\n",
    "\n",
    "You need to define cluster size (k) initially. Can be used elbow graph to choose optimal k\n",
    "\n",
    "The algorithm tries to seperate data points into k groups which are the nearest observation in group (inter-class) and farthest distance between groups (intra-class)\n",
    "\n",
    "The distance metrics, euclidean, cosine similarity, can be used\n",
    "\n",
    "You can use hierarchical (tree structure, dendogram representation) k-means\n",
    "\n",
    "Outlier can lead k-means clustering, also initial potins are randomly selected. So you can get different results for each execution of the algorithm with the same data and same settings.\n",
    "\n",
    "### Cosine Simiilarity\n",
    "In vector space model, you can find similarity for two different vectors using cosinus.\n",
    "\n",
    "You can use the cosine similarity metric in many unsupervised learning technique like document clustering, collaborative filtering.\n",
    "\n",
    "You just need to represent the variables as vectors like word, item list, word list..."
   ]
  },
  {
   "cell_type": "markdown",
   "metadata": {},
   "source": [
    "![km1](115.png)"
   ]
  },
  {
   "cell_type": "markdown",
   "metadata": {},
   "source": [
    "![km2](116.jpg)"
   ]
  },
  {
   "cell_type": "markdown",
   "metadata": {},
   "source": [
    "![km3](117.jpg)"
   ]
  },
  {
   "cell_type": "markdown",
   "metadata": {},
   "source": [
    "![cs1](118.png)"
   ]
  },
  {
   "cell_type": "markdown",
   "metadata": {},
   "source": [
    "![cs2](119.png)"
   ]
  },
  {
   "cell_type": "markdown",
   "metadata": {},
   "source": [
    "![cs3](120.png)"
   ]
  },
  {
   "cell_type": "markdown",
   "metadata": {},
   "source": [
    "![cs4](121.jpg)"
   ]
  },
  {
   "cell_type": "markdown",
   "metadata": {},
   "source": [
    "### Density Based Scan Clustering\n",
    "\n",
    "Can be used for outlier/anomaly detection with local outliers\n",
    "\n",
    "You need to set the parameters: eps (the round metric for distance/density), minpts (#observations in given round)\n",
    "\n",
    "Core point is the center of the cluster/round, border is a nearest point for cluster and outlier is the farthest point from core\n",
    "\n"
   ]
  },
  {
   "cell_type": "markdown",
   "metadata": {},
   "source": [
    "![db1](122.jpg)"
   ]
  },
  {
   "cell_type": "markdown",
   "metadata": {},
   "source": [
    "![db2](123.jpg)"
   ]
  },
  {
   "cell_type": "markdown",
   "metadata": {},
   "source": [
    "![db3](124.jpg)"
   ]
  },
  {
   "cell_type": "markdown",
   "metadata": {},
   "source": [
    "### Expectation Maximization\n",
    "\n",
    "EM can be used for hidden information and component extraction\n",
    "\n",
    "Assume that you have a dataset except gender variable\n",
    "\n",
    "You can use EM clustering to find most likely gender using some behavioral known features. These features must show significant distribution for gender\n",
    "\n",
    "EM algorithms is an iterative process until convergence and has two steps as follows:\n",
    "    + E step: Set (Init once) distr. parameters (mu,sigma for gaussian) and update hypothesis\n",
    "    + M step: Update distr. parameters and set hypothesis"
   ]
  },
  {
   "cell_type": "markdown",
   "metadata": {},
   "source": [
    "![em1](125.jpg)"
   ]
  },
  {
   "cell_type": "markdown",
   "metadata": {},
   "source": [
    "![em2](126.png)"
   ]
  },
  {
   "cell_type": "markdown",
   "metadata": {},
   "source": [
    "![em3](127.jpg)"
   ]
  },
  {
   "cell_type": "markdown",
   "metadata": {},
   "source": [
    "### Orthogonal Partitioning\n",
    "\n",
    "Grid-based clustering can be used for spatial clustering"
   ]
  },
  {
   "cell_type": "markdown",
   "metadata": {},
   "source": [
    "![oc](128.png)"
   ]
  },
  {
   "cell_type": "markdown",
   "metadata": {},
   "source": [
    "### Anomaly Detection - One-class SVM"
   ]
  },
  {
   "cell_type": "markdown",
   "metadata": {},
   "source": [
    "![ocsvm1](129.png)"
   ]
  },
  {
   "cell_type": "markdown",
   "metadata": {},
   "source": [
    "![ocsvm2](130.png)"
   ]
  },
  {
   "cell_type": "markdown",
   "metadata": {},
   "source": [
    "### Apriori\n",
    "\n",
    "Associal rules/apriori is a useful task to investigate the most fruquent item-sets and rules in a basket/session\n",
    "\n",
    "It can be used for cross-selling and click-stream data analysis to explore session-based menu associations\n",
    "\n",
    "The algorithm expects rule length size, min support and min confidence level initially\n"
   ]
  },
  {
   "cell_type": "markdown",
   "metadata": {},
   "source": [
    "![ap1](131.jpg)"
   ]
  },
  {
   "cell_type": "markdown",
   "metadata": {},
   "source": [
    "![ap2](132.png)"
   ]
  },
  {
   "cell_type": "markdown",
   "metadata": {},
   "source": [
    "### Collaborative Filtering\n",
    "\n",
    "CF is a useful tool for recommendation engine. The algorithm tries to find similar user groups using collaboration of user's behaviors and interests like rating, voting, offer acceptance\n",
    "\n",
    "There is 3 types of recommender system: \n",
    "- Content-based filtering: using product contents, text processing and clustering\n",
    "- Memory-based CF: using similarity metrics like cosine similarity, jackard index, also neighborhood\n",
    "- Model-based CF: using matrix factorization/decomposition techniques like PCA, SVD, NMF, ALS\n",
    "\n",
    "If you have not ratings (explicit database) for products, you can create your proxy feature (using implicit databae) like RFM score or offer acceptance result\n",
    "\n"
   ]
  },
  {
   "cell_type": "markdown",
   "metadata": {},
   "source": [
    "![cf1](134.png)"
   ]
  },
  {
   "cell_type": "markdown",
   "metadata": {},
   "source": [
    "![cf2](135.jpg)"
   ]
  },
  {
   "cell_type": "markdown",
   "metadata": {},
   "source": [
    "![cf3](136.jpg)"
   ]
  },
  {
   "cell_type": "markdown",
   "metadata": {},
   "source": [
    "![cf4](137.png)"
   ]
  },
  {
   "cell_type": "markdown",
   "metadata": {},
   "source": [
    "### Social Network Analysis\n",
    "\n",
    "To find clusters and roles using linked/connected data\n",
    "\n",
    "Can be implemented on graph databases like Neo4j easily\n",
    "\n",
    "Closeness, Betweennes, shortest path, pagerank can be used for analytical scenarios\n",
    "\n",
    "Graph data can exist as property graph (vertice-edge) or semantic graph (ontology, OWL, RDF) "
   ]
  },
  {
   "cell_type": "markdown",
   "metadata": {},
   "source": [
    "![graph](138.png)"
   ]
  }
 ],
 "metadata": {
  "kernelspec": {
   "display_name": "Python 3",
   "language": "python",
   "name": "python3"
  },
  "language_info": {
   "codemirror_mode": {
    "name": "ipython",
    "version": 3
   },
   "file_extension": ".py",
   "mimetype": "text/x-python",
   "name": "python",
   "nbconvert_exporter": "python",
   "pygments_lexer": "ipython3",
   "version": "3.6.5"
  }
 },
 "nbformat": 4,
 "nbformat_minor": 2
}
