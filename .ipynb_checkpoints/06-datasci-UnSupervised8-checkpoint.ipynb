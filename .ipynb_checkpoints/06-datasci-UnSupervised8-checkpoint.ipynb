{
 "cells": [
  {
   "cell_type": "markdown",
   "metadata": {},
   "source": [
    "# ADVANCED ANALYTICS 2018\n",
    "_Ali Çabukel - Gtech_"
   ]
  },
  {
   "cell_type": "markdown",
   "metadata": {},
   "source": [
    "### Social Network Analysis\n",
    "\n",
    "To find clusters and roles using linked/connected data\n",
    "\n",
    "Can be implemented on graph databases like Neo4j easily\n",
    "\n",
    "Closeness, Betweennes, shortest path, pagerank can be used for analytical scenarios\n",
    "\n",
    "Graph data can exist as property graph (vertice-edge) or semantic graph (ontology, OWL, RDF) "
   ]
  },
  {
   "cell_type": "markdown",
   "metadata": {},
   "source": [
    "![graph](138.png)"
   ]
  }
 ],
 "metadata": {
  "kernelspec": {
   "display_name": "Python 3",
   "language": "python",
   "name": "python3"
  },
  "language_info": {
   "codemirror_mode": {
    "name": "ipython",
    "version": 3
   },
   "file_extension": ".py",
   "mimetype": "text/x-python",
   "name": "python",
   "nbconvert_exporter": "python",
   "pygments_lexer": "ipython3",
   "version": "3.6.5"
  }
 },
 "nbformat": 4,
 "nbformat_minor": 2
}
