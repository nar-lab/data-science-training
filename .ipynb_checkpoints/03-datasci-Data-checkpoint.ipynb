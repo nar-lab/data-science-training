{
 "cells": [
  {
   "cell_type": "markdown",
   "metadata": {},
   "source": [
    "# ADVANCED ANALYTICS 2018\n",
    "_Ali Çabukel - Gtech_\n",
    "\n",
    "## Rich Data Formats\n",
    "- Structured\n",
    "    + Tabular Dataaset: RDBMS, Delimited Files, Matrix Formats, Transactional\n",
    "    + Graph Data: WWW, Connected Data (Property Graphs, Semantic Graphs)\n",
    "    + Databases Tables, CSV, DSV, FWF\n",
    "    + Sequential: Video - Audio Stream, Timeseries, Genom, Sensors, Clickstream\n",
    "    + Spatial: GIS, Images\n",
    "- Semi-structured\n",
    "    + Web Services, SOA, Social Media APIs\n",
    "    + JSON, XML\n",
    "- Unstructured\n",
    "    + Email, Conversation Data, Social Media Posts\n",
    "    + Text Files\n",
    "    \n",
    "### New Generation Data\n",
    "Enterprises and companies have new generation, valuable external data sources which enrich their internal datasets. In terms of technical view, companies can need to move their workloads to scalable and cheaper Big Data Systems.\n",
    "- Features of Big Data - 6V:\n",
    "    + Volume: Large scale (Peta, Zetta)\n",
    "    + Variety: Various Data Formats\n",
    "    + Velocity: Fast Data\n",
    "    + Veracity: Uncertain Data\n",
    "    + Valence: Linked Data\n",
    "    + __Value__\n",
    "    \n",
    "### Diverse Data Sources\n",
    "- Human-generated: Social media conversations, Emails, Ratings, Applications....\n",
    "- Machine-generated: Sensors, Web-logs, GPS...\n",
    "\n",
    "### Structured Data Shape and Feature Roles\n",
    "- Observations: Rows\n",
    "- Features, Attributes, Variables, Predictors: Columns\n",
    "- Target, Class, Label: Training Data\n",
    "- Identifier: Primary Key\n",
    "- Analytical Datamart should have the following properties:\n",
    "    + Clean, Well-Qualified, No noise\n",
    "    + Structured, Denormalized, 360-Degree View\n",
    "    + Unique Record for each Identifier, Customer ID, Account ID, Transaction ID\n",
    "    \n",
    "## Data Preparation\n",
    "- Extract data from data sources, transform data to denormalized model, clean, sparse data and load as an Analytical Datamart\n",
    "- You can use the following tools and functions while data preparation:\n",
    "    + SQL and SQL Analytical & Window Functions\n",
    "    + Lambda expressions using functional programming like Python, R... (map, apply, filter, reduce...)\n",
    "    + Functions like reshape, One-Hot Encoding, pivot, transpose, split, union...\n",
    "    + Includes numerical and categorical features\n",
    "    + Spatial and geometric functions for location-based data\n",
    "    + Missing value treatment and imputation: mean, median, analytical model based\n",
    "    + For further reading: https://www.analyticsvidhya.com/blog/2016/01/guide-data-exploration/"
   ]
  },
  {
   "cell_type": "markdown",
   "metadata": {},
   "source": [
    "![Types of Data](32.jpg)"
   ]
  },
  {
   "cell_type": "markdown",
   "metadata": {},
   "source": [
    "![New Generation Data](33.jpg)"
   ]
  },
  {
   "cell_type": "markdown",
   "metadata": {},
   "source": [
    "![5V](34.jpg)"
   ]
  },
  {
   "cell_type": "markdown",
   "metadata": {},
   "source": [
    "![Data Formats](35.png)"
   ]
  },
  {
   "cell_type": "markdown",
   "metadata": {},
   "source": [
    "![Data Shape](36.jpg)"
   ]
  },
  {
   "cell_type": "markdown",
   "metadata": {},
   "source": [
    "![Roles of Data](37.jpg)"
   ]
  },
  {
   "cell_type": "markdown",
   "metadata": {},
   "source": [
    "![etl](38.jpg)"
   ]
  },
  {
   "cell_type": "markdown",
   "metadata": {},
   "source": [
    "![denormalized](39.png)"
   ]
  },
  {
   "cell_type": "markdown",
   "metadata": {},
   "source": [
    "![garbage](40.jpg)"
   ]
  },
  {
   "cell_type": "markdown",
   "metadata": {},
   "source": [
    "![missing](41.jpg)"
   ]
  },
  {
   "cell_type": "markdown",
   "metadata": {},
   "source": [
    "![missing](42.jpg)"
   ]
  },
  {
   "cell_type": "markdown",
   "metadata": {},
   "source": [
    "![ohe](43.jpg)"
   ]
  },
  {
   "cell_type": "markdown",
   "metadata": {},
   "source": [
    "![ohe2](44.png)"
   ]
  }
 ],
 "metadata": {
  "kernelspec": {
   "display_name": "Python 3",
   "language": "python",
   "name": "python3"
  },
  "language_info": {
   "codemirror_mode": {
    "name": "ipython",
    "version": 3
   },
   "file_extension": ".py",
   "mimetype": "text/x-python",
   "name": "python",
   "nbconvert_exporter": "python",
   "pygments_lexer": "ipython3",
   "version": "3.6.5"
  }
 },
 "nbformat": 4,
 "nbformat_minor": 2
}
