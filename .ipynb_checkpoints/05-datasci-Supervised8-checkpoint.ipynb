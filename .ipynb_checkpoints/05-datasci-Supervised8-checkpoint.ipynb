{
 "cells": [
  {
   "cell_type": "markdown",
   "metadata": {},
   "source": [
    "# ADVANCED ANALYTICS 2018\n",
    "_Ali Çabukel - Gtech_"
   ]
  },
  {
   "cell_type": "markdown",
   "metadata": {},
   "source": [
    "### Support Vector Machines\n",
    "\n",
    "SVMs can be used for regression and classification, also one-class SVM algorithm can be used in anomaly detection in unsupservised learning concept.\n",
    "\n",
    "- SVM can find decision boundaries (classify or fit a line) using hyperplanes with a margin for given data points with/without target\n",
    "- It tries to find maximum margin length to fit optimal model\n",
    "- The data points, which are boundaries for margins, are called as support vectors\n",
    "- SVM can be used for binary and multi-class classification, logistic regression is a common task for a binary classification\n",
    "- SVM model results are not readable\n",
    "- You can tune the models by finding optimal values for hyperparameters like complexity factor, gamma (for gaussian)...\n",
    "- Support vector machines have generally two classifier techniques called as kernels:\n",
    "    + Linear is default kernel\n",
    "    + You can fit a model for non-linear patterns using Gaussian kernel (RBF)\n",
    "\n",
    "https://www.analyticsvidhya.com/blog/2017/09/understaing-support-vector-machine-example-code/\n",
    "https://yunhaocsblog.wordpress.com/2014/07/27/the-effects-of-hyperparameters-in-svm/"
   ]
  },
  {
   "cell_type": "markdown",
   "metadata": {},
   "source": [
    "![svm1](100.png)"
   ]
  },
  {
   "cell_type": "markdown",
   "metadata": {},
   "source": [
    "![svm2](101.png)"
   ]
  },
  {
   "cell_type": "markdown",
   "metadata": {},
   "source": [
    "![svm3](102.jpg)"
   ]
  },
  {
   "cell_type": "markdown",
   "metadata": {},
   "source": [
    "![svm4](103.png)"
   ]
  },
  {
   "cell_type": "markdown",
   "metadata": {},
   "source": [
    "![svm4](104.jpg)"
   ]
  }
 ],
 "metadata": {
  "kernelspec": {
   "display_name": "Python 3",
   "language": "python",
   "name": "python3"
  },
  "language_info": {
   "codemirror_mode": {
    "name": "ipython",
    "version": 3
   },
   "file_extension": ".py",
   "mimetype": "text/x-python",
   "name": "python",
   "nbconvert_exporter": "python",
   "pygments_lexer": "ipython3",
   "version": "3.6.5"
  }
 },
 "nbformat": 4,
 "nbformat_minor": 2
}
