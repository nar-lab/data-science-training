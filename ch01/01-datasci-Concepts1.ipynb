{
 "cells": [
  {
   "cell_type": "markdown",
   "metadata": {},
   "source": [
    "# ADVANCED ANALYTICS 2018\n",
    "_Author: Ali Çabukel_\n",
    "\n",
    "\n",
    "## Basic Concepts\n"
   ]
  },
  {
   "cell_type": "markdown",
   "metadata": {},
   "source": [
    "### Business Intelligence vs. Advanced Analytics\n",
    "- Traditional BI interests in the questions for events in the past\n",
    "- Advanced Analytics focuses on explaining __the causes__ of the events and finding __significant patterns__\n",
    "- Also Advanced Analytics can be used for catching __most likely events in the future__ using historical data\n",
    "- The patterns can be represented as an equation or rule set"
   ]
  },
  {
   "cell_type": "markdown",
   "metadata": {},
   "source": [
    "![Business Intelligencevs Advanced Analytics](../img/ch01/concepts1/1.png)"
   ]
  },
  {
   "cell_type": "markdown",
   "metadata": {},
   "source": [
    "### Traditional Computing vs Machine Learning\n",
    "- We develop a program on input data to get output in the Traditional Programming \n",
    "- We are able to generate a program, a formula or rules, using inputs and outcomes with Machine Learning approach"
   ]
  },
  {
   "cell_type": "markdown",
   "metadata": {},
   "source": [
    "![Traditional Programming vs. Machine Learning](../img/ch01/concepts1/2.jpg)"
   ]
  },
  {
   "cell_type": "markdown",
   "metadata": {},
   "source": [
    "### Evolution of Machine Learning"
   ]
  },
  {
   "cell_type": "markdown",
   "metadata": {},
   "source": [
    "![Evolution of ML](../img/ch01/concepts1/3.png)"
   ]
  },
  {
   "cell_type": "markdown",
   "metadata": {},
   "source": [
    "### Types of Business Analytics\n",
    "+ Descriptive Analytics\n",
    "+ Diagnostic Analytics\n",
    "+ __Predictive Analytics__\n",
    "+ Prescriptive Analytics"
   ]
  },
  {
   "cell_type": "markdown",
   "metadata": {},
   "source": [
    "![Types of Business Analytics - 1](../img/ch01/concepts1/4.jpg)"
   ]
  },
  {
   "cell_type": "markdown",
   "metadata": {},
   "source": [
    "![Types of Business Analytics - 2](../img/ch01/concepts1/5.png)"
   ]
  },
  {
   "cell_type": "markdown",
   "metadata": {},
   "source": [
    "### Data Science Definiton and Skillset\n",
    "Evey __Data Scientist__ should be specialized in the following areas:\n",
    "- Math and Statistics\n",
    "- Domain Knowledge\n",
    "- Computing Skills"
   ]
  },
  {
   "cell_type": "markdown",
   "metadata": {},
   "source": [
    "![Data Science Definition](../img/ch01/concepts1/6.jpg)"
   ]
  },
  {
   "cell_type": "markdown",
   "metadata": {},
   "source": [
    "![Data Scientist Skill Set](../img/ch01/concepts1/7.jpg)"
   ]
  },
  {
   "cell_type": "markdown",
   "metadata": {},
   "source": [
    "![Data Science Puzzle](../img/ch01/concepts1/8.jpg)"
   ]
  },
  {
   "cell_type": "markdown",
   "metadata": {},
   "source": [
    "### Some Quick Definitions for Advanced Analytics Concepts"
   ]
  },
  {
   "cell_type": "markdown",
   "metadata": {},
   "source": [
    "![Quick Definitions](../img/ch01/concepts1/9.jpg)"
   ]
  },
  {
   "cell_type": "markdown",
   "metadata": {},
   "source": [
    "### Artificial Intelligence\n",
    "- Artificial Intelligence focuses on machines with human functionalities like:\n",
    "    + Describing an image\n",
    "    + Understanding a sound\n",
    "    + Reading a text\n",
    "    + Also taking actions for events\n",
    "    + E.g robots, chatbots...\n",
    "- Machine Learning means the theories of learning experiments from data\n",
    "- Deep Learning's main objective is to process language, images, audios using deep, huge neural networks \n",
    "    + Neural networks theory is a primitive representation for human brains, neuron systems"
   ]
  },
  {
   "cell_type": "markdown",
   "metadata": {},
   "source": [
    "![Artificial Intelligence](../img/ch01/concepts1/10.jpg)"
   ]
  },
  {
   "cell_type": "markdown",
   "metadata": {},
   "source": [
    "### Deep Learning Advantage\n",
    "\n",
    "- Deep Learning models are able to extract features while modelling phase\n",
    "    + It's an automated process\n",
    "- On the other hand, we need to extract features manually in the modelling phase in classical machine learning\n"
   ]
  },
  {
   "cell_type": "markdown",
   "metadata": {},
   "source": [
    "![Deep Learning](../img/ch01/concepts1/11.png)"
   ]
  },
  {
   "cell_type": "markdown",
   "metadata": {},
   "source": [
    "### Machine Learning 3.0"
   ]
  },
  {
   "cell_type": "markdown",
   "metadata": {},
   "source": [
    "![Machine Learning 3.0](../img/ch01/concepts1/12.png)"
   ]
  },
  {
   "cell_type": "markdown",
   "metadata": {},
   "source": [
    "### Big Data Landscape 2018"
   ]
  },
  {
   "cell_type": "markdown",
   "metadata": {},
   "source": [
    "![Big Data Landscape 2018](../img/ch01/concepts1/13.jpg)"
   ]
  }
 ],
 "metadata": {
  "kernelspec": {
   "display_name": "Python 3",
   "language": "python",
   "name": "python3"
  },
  "language_info": {
   "codemirror_mode": {
    "name": "ipython",
    "version": 3
   },
   "file_extension": ".py",
   "mimetype": "text/x-python",
   "name": "python",
   "nbconvert_exporter": "python",
   "pygments_lexer": "ipython3",
   "version": "3.6.5"
  }
 },
 "nbformat": 4,
 "nbformat_minor": 2
}
