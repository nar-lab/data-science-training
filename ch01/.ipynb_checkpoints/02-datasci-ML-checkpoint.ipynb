{
 "cells": [
  {
   "cell_type": "markdown",
   "metadata": {},
   "source": [
    "# ADVANCED ANALYTICS 2018\n",
    "_Author: Ali Çabukel_"
   ]
  },
  {
   "cell_type": "markdown",
   "metadata": {},
   "source": [
    "## Types of Machine Learning\n",
    "\n",
    "### Learning Types\n",
    "Machine learning has mainly 3 different learning techniques as follows:\n",
    "- Supervised Learning is a common machine learning technique. It can be applied when/if data has target variable, labeled training set or result. The task is appropriate to detect spam emails or to predict house prices in the future. \n",
    "    + Classificiton\n",
    "    + Regression\n",
    "    \n",
    "- Unsupervised Learning can be used for exploratory data analysis. Training dataset and model performance measurement are not generally useful for this task. You can find out your customer groups/clusters or recommend new products to your customers using unsupervised learning techniques.\n",
    "    + Clustering\n",
    "    + Association\n",
    "    \n",
    "- Reinforcement Learning"
   ]
  },
  {
   "cell_type": "markdown",
   "metadata": {},
   "source": [
    "![Types of ML 1](../img/ch01/machinelearning/1.jpg)"
   ]
  },
  {
   "cell_type": "markdown",
   "metadata": {},
   "source": [
    "![Types of ML 2](../img/ch01/machinelearning/2.png)"
   ]
  },
  {
   "cell_type": "markdown",
   "metadata": {},
   "source": [
    "![Types of ML 3](../img/ch01/machinelearning/3.jpg)"
   ]
  },
  {
   "cell_type": "markdown",
   "metadata": {},
   "source": [
    "![\"Types of ML 4](../img/ch01/machinelearning/4.png)"
   ]
  },
  {
   "cell_type": "markdown",
   "metadata": {},
   "source": [
    "![Types of ML 5](../img/ch01/machinelearning/5.jpg)"
   ]
  },
  {
   "cell_type": "markdown",
   "metadata": {},
   "source": [
    "![Types of ML 6](../img/ch01/machinelearning/6.jpg)"
   ]
  },
  {
   "cell_type": "markdown",
   "metadata": {},
   "source": [
    "![Types of ML 7](../img/ch01/machinelearning/7.jpg)"
   ]
  }
 ],
 "metadata": {
  "kernelspec": {
   "display_name": "Python 3",
   "language": "python",
   "name": "python3"
  },
  "language_info": {
   "codemirror_mode": {
    "name": "ipython",
    "version": 3
   },
   "file_extension": ".py",
   "mimetype": "text/x-python",
   "name": "python",
   "nbconvert_exporter": "python",
   "pygments_lexer": "ipython3",
   "version": "3.6.5"
  }
 },
 "nbformat": 4,
 "nbformat_minor": 2
}
