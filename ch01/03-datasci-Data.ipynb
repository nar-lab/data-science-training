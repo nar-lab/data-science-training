{
 "cells": [
  {
   "cell_type": "markdown",
   "metadata": {},
   "source": [
    "# ADVANCED ANALYTICS 2018\n",
    "_Author: Ali Çabukel_"
   ]
  },
  {
   "cell_type": "markdown",
   "metadata": {},
   "source": [
    "## Rich Data Formats\n",
    "- Structured\n",
    "    + Tabular Dataset: RDBMS, Delimited Files, Matrix Formats, Transactional\n",
    "    + Graph Data: WWW, Connected Data (Property Graphs, Semantic Graphs)\n",
    "    + Database Tables, CSV, DSV, FWF\n",
    "    + Sequential: Video - Audio Stream, Timeseries, Genom, Sensors, Clickstream\n",
    "    + Spatial: GIS, Images\n",
    "- Semi-structured\n",
    "    + Web Services, SOA, Social Media APIs\n",
    "    + JSON, XML\n",
    "- Unstructured\n",
    "    + Email, Conversation Data, Social Media Posts\n",
    "    + Text Files"
   ]
  },
  {
   "cell_type": "markdown",
   "metadata": {},
   "source": [
    "![Types of Data](../img/ch01/data/1.jpg)"
   ]
  },
  {
   "cell_type": "markdown",
   "metadata": {},
   "source": [
    "### New Generation Data\n",
    "Enterprises and companies have new generation, valuable external data sources which enrich their internal datasets. In terms of technical view, companies can need to move their workloads to scalable and cheaper Big Data Systems.\n",
    "- Characteristics of Big Data - 6V:\n",
    "    + Volume: Large scale (Peta, Zetta)\n",
    "    + Variety: Various Data Formats\n",
    "    + Velocity: Fast Data\n",
    "    + Veracity: Uncertain Data\n",
    "    + Valence: Linked Data\n",
    "    + __Value__"
   ]
  },
  {
   "cell_type": "markdown",
   "metadata": {},
   "source": [
    "![New Generation Data](../img/ch01/data/2.jpg)"
   ]
  },
  {
   "cell_type": "markdown",
   "metadata": {},
   "source": [
    "![5V](../img/ch01/data/3.jpg)"
   ]
  },
  {
   "cell_type": "markdown",
   "metadata": {},
   "source": [
    "### Diverse Data Sources\n",
    "- Human-generated: Social media conversations, Emails, Ratings, Applications....\n",
    "- Machine-generated: Sensors, Web-logs, GPS...\n"
   ]
  },
  {
   "cell_type": "markdown",
   "metadata": {},
   "source": [
    "![Data Formats](../img/ch01/data/4.png)"
   ]
  },
  {
   "cell_type": "markdown",
   "metadata": {},
   "source": [
    "### Structured Data Shape and Feature Roles\n",
    "- Observations: Rows\n",
    "- Features, Attributes, Variables, Predictors: Columns\n",
    "- Target, Class, Label: Training Data\n",
    "- Identifier: Primary Key\n",
    "- Analytical Datamart should have the following properties:\n",
    "    + Clean, Well-Qualified, No noise\n",
    "    + Structured, Denormalized, 360-Degree View for an identifier\n",
    "    + Unique Record for each Identifier, Customer ID, Account ID, Transaction ID"
   ]
  },
  {
   "cell_type": "markdown",
   "metadata": {},
   "source": [
    "![Shape of Data](../img/ch01/data/5.jpg)"
   ]
  },
  {
   "cell_type": "markdown",
   "metadata": {},
   "source": [
    "![Roles of Data](../img/ch01/data/6.jpg)"
   ]
  },
  {
   "cell_type": "markdown",
   "metadata": {},
   "source": [
    "## Data Preparation\n",
    "- Extract data from data sources, transform data to denormalized model, clean, sparse data and load as an Analytical Datamart\n",
    "- You can use the following tools and functions while preparing data:\n",
    "    + SQL and SQL Analytical & Window Functions\n",
    "    + Lambda expressions using functional programming like Python, R... (map, apply, filter, reduce...)\n",
    "    + Functions like reshape, One-Hot Encoding, pivot, transpose, split, union...\n",
    "    + Includes numerical and categorical features\n",
    "    + Spatial and geometric functions for location-based data\n",
    "    + Missing value treatment and imputation: mean, median, analytical model based"
   ]
  },
  {
   "cell_type": "markdown",
   "metadata": {},
   "source": [
    "![ETL](../img/ch01/data/7.jpg)"
   ]
  },
  {
   "cell_type": "markdown",
   "metadata": {},
   "source": [
    "![Denormalization](../img/ch01/data/8.png)"
   ]
  },
  {
   "cell_type": "markdown",
   "metadata": {},
   "source": [
    "![Garbage In Garbage Out](../img/ch01/data/9.jpg)"
   ]
  },
  {
   "cell_type": "markdown",
   "metadata": {},
   "source": [
    "![Data Preprocessing](../img/ch01/data/10.jpg)"
   ]
  },
  {
   "cell_type": "markdown",
   "metadata": {},
   "source": [
    "![Missing Value Treatment](../img/ch01/data/11.jpg)"
   ]
  },
  {
   "cell_type": "markdown",
   "metadata": {},
   "source": [
    "![One-hot Encoding](../img/ch01/data/12.jpg)"
   ]
  },
  {
   "cell_type": "markdown",
   "metadata": {},
   "source": [
    "![Wide - Long Transformation](../img/ch01/data/13.png)"
   ]
  },
  {
   "cell_type": "code",
   "execution_count": 15,
   "metadata": {},
   "outputs": [
    {
     "data": {
      "text/html": [
       "<iframe src=https://www.analyticsvidhya.com/blog/2016/01/guide-data-exploration/ width=800 height=350></iframe>"
      ],
      "text/plain": [
       "<IPython.core.display.HTML object>"
      ]
     },
     "execution_count": 15,
     "metadata": {},
     "output_type": "execute_result"
    }
   ],
   "source": [
    "from IPython.core.display import HTML\n",
    "page = \"https://www.analyticsvidhya.com/blog/2016/01/guide-data-exploration/\"\n",
    "HTML(\"<iframe src=\" + page + \" width=800 height=350></iframe>\")"
   ]
  }
 ],
 "metadata": {
  "kernelspec": {
   "display_name": "Python 3",
   "language": "python",
   "name": "python3"
  },
  "language_info": {
   "codemirror_mode": {
    "name": "ipython",
    "version": 3
   },
   "file_extension": ".py",
   "mimetype": "text/x-python",
   "name": "python",
   "nbconvert_exporter": "python",
   "pygments_lexer": "ipython3",
   "version": "3.6.5"
  }
 },
 "nbformat": 4,
 "nbformat_minor": 2
}
