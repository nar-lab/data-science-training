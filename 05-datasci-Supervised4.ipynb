{
 "cells": [
  {
   "cell_type": "markdown",
   "metadata": {},
   "source": [
    "# ADVANCED ANALYTICS 2018\n",
    "_Author: Ali Çabukel_"
   ]
  },
  {
   "cell_type": "markdown",
   "metadata": {},
   "source": [
    "### Regularization, Feature-Model Selection\n",
    "- We can decrease complexity of model by indicating model parameter values, also eliminating some features\n",
    "- Regularization techniques provide automated process of model and feature selection\n",
    "    + L1: Lasso Regression provides indicating parameter values, also selecting features\n",
    "    + L2: Ridge Regression provides indicating parameter values\n",
    "    + Elasticnet\n",
    "- Akaike (AIC) and Bayesian (BIC) information criterion metrics are mostly used for model selection - penalization \n",
    "- You could use the regularization techniques when overfitting (high-variance) occured\n"
   ]
  },
  {
   "cell_type": "markdown",
   "metadata": {},
   "source": [
    "![aic](87.jpg)"
   ]
  },
  {
   "cell_type": "markdown",
   "metadata": {},
   "source": [
    "![bic](88.jpg)"
   ]
  },
  {
   "cell_type": "markdown",
   "metadata": {},
   "source": [
    "![reg1](89.png)"
   ]
  },
  {
   "cell_type": "markdown",
   "metadata": {},
   "source": [
    "![reg2](90.png)"
   ]
  }
 ],
 "metadata": {
  "kernelspec": {
   "display_name": "Python 3",
   "language": "python",
   "name": "python3"
  },
  "language_info": {
   "codemirror_mode": {
    "name": "ipython",
    "version": 3
   },
   "file_extension": ".py",
   "mimetype": "text/x-python",
   "name": "python",
   "nbconvert_exporter": "python",
   "pygments_lexer": "ipython3",
   "version": "3.6.5"
  }
 },
 "nbformat": 4,
 "nbformat_minor": 2
}
