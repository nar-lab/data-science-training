{
 "cells": [
  {
   "cell_type": "markdown",
   "metadata": {},
   "source": [
    "# ADVANCED ANALYTICS 2018\n",
    "_Author: Ali Çabukel_"
   ]
  },
  {
   "cell_type": "markdown",
   "metadata": {},
   "source": [
    "## Exploratory Data Analysis and Feature Engineering\n",
    "- Feature Extraction and Dimensionality Reduction\n",
    "    + Matrix factorization techniques can be used for indicating loss of information, reducing dimensions easy to use, also selecting features in correlated features\n",
    "    + Can be applied on sparse data to reduce high dimensionality\n",
    "    + Principal Component Analysis, Singular Value Decomposition, Non-negative Matrix Factorization\n",
    "    + Sparse matrix examples: TF-IDF, Collaborative Filtering User-Item Matrix... \n",
    "\n",
    "### Dimensionality Reduction and Feature Extraction\n",
    "\n",
    "Main usages:\n",
    "\n",
    "- Component/latent feature extraction\n",
    "- Data Compression\n",
    "- Data understanding, bivariate analysis\n",
    "\n",
    "\n",
    "### Principal Component Analysis\n",
    "\n",
    "http://sebastianraschka.com/Articles/2014_pca_step_by_step.html\n",
    "\n",
    "http://www.dataperspective.info/2016/02/principal-component-analysis-using-r.html\n",
    "\n",
    "### Singular Value Decomposition\n",
    "\n",
    "### Non-negative Matrix Factorization"
   ]
  },
  {
   "cell_type": "markdown",
   "metadata": {},
   "source": [
    "![dimensionality](63.jpg)"
   ]
  },
  {
   "cell_type": "markdown",
   "metadata": {},
   "source": [
    "![pca1](139.png)"
   ]
  },
  {
   "cell_type": "markdown",
   "metadata": {},
   "source": [
    "![pca2](140.jpg)"
   ]
  },
  {
   "cell_type": "markdown",
   "metadata": {},
   "source": [
    "![pca3](141.jpg)"
   ]
  },
  {
   "cell_type": "markdown",
   "metadata": {},
   "source": [
    "![pca4](142.jpg)"
   ]
  },
  {
   "cell_type": "markdown",
   "metadata": {},
   "source": [
    "![svd1](143.jpg)"
   ]
  },
  {
   "cell_type": "markdown",
   "metadata": {},
   "source": [
    "![svd2](144.jpg)"
   ]
  },
  {
   "cell_type": "markdown",
   "metadata": {},
   "source": [
    "![svd3](145.png)"
   ]
  },
  {
   "cell_type": "markdown",
   "metadata": {},
   "source": [
    "![nmf1](146.jpg)"
   ]
  },
  {
   "cell_type": "markdown",
   "metadata": {},
   "source": [
    "![nmf2](147.jpg)"
   ]
  }
 ],
 "metadata": {
  "kernelspec": {
   "display_name": "Python 3",
   "language": "python",
   "name": "python3"
  },
  "language_info": {
   "codemirror_mode": {
    "name": "ipython",
    "version": 3
   },
   "file_extension": ".py",
   "mimetype": "text/x-python",
   "name": "python",
   "nbconvert_exporter": "python",
   "pygments_lexer": "ipython3",
   "version": "3.6.5"
  }
 },
 "nbformat": 4,
 "nbformat_minor": 2
}
