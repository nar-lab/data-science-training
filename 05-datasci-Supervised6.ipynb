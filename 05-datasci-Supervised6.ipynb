{
 "cells": [
  {
   "cell_type": "markdown",
   "metadata": {},
   "source": [
    "# ADVANCED ANALYTICS 2018\n",
    "_Author: Ali Çabukel_"
   ]
  },
  {
   "cell_type": "markdown",
   "metadata": {},
   "source": [
    "### Naive Bayes\n",
    "\n",
    "If you have dependent two event, you can calculate the probability of occurence the target event (posterior) using prior probability and conditional probability. In example:\n",
    "- You have many emails and you want to research the spam-probability for a new email\n",
    "- It's very hard to calculate P(A=spam | B=keywords in email) which is posterior probability\n",
    "- According to Bayes theorem, if you already know a prior probability, which is a probability of spam e-mail, you can find the spam probability for a new email\n",
    "- Prior probability can be calculated as #spam emails / #emails, P(A=spam)\n",
    "- The conditional probability can be defined as P(B=keyword | A=spam)\n",
    "- So, you can get P(A=spam | B=keywords in email) = P(B=kw1 | A=spam) * P(B=kw2 | A=spam) * .. *  P(B=kwn | A=spam) * P(A=spam)\n",
    "\n",
    "Naive Bayes algorithm is a common classification task which is used in text classification and real-time analytics and decision engines, because it can be applied and calculated easily.\n",
    "\n",
    "https://brohrer.github.io/how_bayesian_inference_works.html\n"
   ]
  },
  {
   "cell_type": "markdown",
   "metadata": {},
   "source": [
    "![bayes1](98.png)"
   ]
  },
  {
   "cell_type": "markdown",
   "metadata": {},
   "source": [
    "![bayes2](99.jpg)"
   ]
  }
 ],
 "metadata": {
  "kernelspec": {
   "display_name": "Python 3",
   "language": "python",
   "name": "python3"
  },
  "language_info": {
   "codemirror_mode": {
    "name": "ipython",
    "version": 3
   },
   "file_extension": ".py",
   "mimetype": "text/x-python",
   "name": "python",
   "nbconvert_exporter": "python",
   "pygments_lexer": "ipython3",
   "version": "3.6.5"
  }
 },
 "nbformat": 4,
 "nbformat_minor": 2
}
