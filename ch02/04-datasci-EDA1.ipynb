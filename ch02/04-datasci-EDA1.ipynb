{
 "cells": [
  {
   "cell_type": "markdown",
   "metadata": {},
   "source": [
    "# ADVANCED ANALYTICS 2018\n",
    "_Author: Ali Çabukel_"
   ]
  },
  {
   "cell_type": "markdown",
   "metadata": {},
   "source": [
    "## Exploratory Data Analysis and Feature Engineering\n",
    "- Data Exploration includes the following categories and techniques:\n",
    "    + Univariate Analysis\n",
    "        - Visual: Histogram, Boxplots, Bar Charts, Line Charts\n",
    "        - Descriptive Statistics: Count, Distinct Count, Mean-Median-Mode, Sum, Min-Max Values, Standart Deviation-Variance\n",
    "        - Can be chosen proper techniqes across analytical data types which are numerical, categorical\n",
    "        - Provided insights from data distributions: central tendancy, dispersion, outliers-extremes \n",
    "    + Bivariate Analysis\n",
    "        - Relations: Covariance, Correlations, Contingency Matrix, Chi-Square, Entropy\n",
    "        - Scatterplots, Stacked Bar Charts, Grouped Bar-Charts, Pareto\n",
    "        - Correlation does not imply causality, it gives information about relation.\n",
    "        - Correlation coeffitions takes values from -1 (negative relation) to +1 (positive relation)\n",
    "        - Can be chosen 0.6 (absolute threshold) to define strong relation\n",
    "    + Multivariate Analysis\n",
    "\n",
    "There is some popular frameworks for data visualization, namely ggplot2, Plot.ly, matplotlib, seaborn, D3.js..."
   ]
  },
  {
   "cell_type": "markdown",
   "metadata": {},
   "source": [
    "![Data Visualization](../img/ch02/eda1/1.png)"
   ]
  },
  {
   "cell_type": "markdown",
   "metadata": {},
   "source": [
    "![Types of Analysis](../img/ch02/eda1/2.jpg)"
   ]
  },
  {
   "cell_type": "markdown",
   "metadata": {},
   "source": [
    "![Descriptive Statistics](../img/ch02/eda1/3.png)"
   ]
  },
  {
   "cell_type": "markdown",
   "metadata": {},
   "source": [
    "![Common Probability Distributions](../img/ch02/eda1/4.png)"
   ]
  },
  {
   "cell_type": "markdown",
   "metadata": {},
   "source": [
    "![Normal Probability Density Function](../img/ch02/eda1/5.jpg)"
   ]
  },
  {
   "cell_type": "markdown",
   "metadata": {},
   "source": [
    "![Gaussian Distribution](../img/ch02/eda1/6.png)"
   ]
  },
  {
   "cell_type": "markdown",
   "metadata": {},
   "source": [
    "![Skewness](../img/ch02/eda1/7.jpg)"
   ]
  },
  {
   "cell_type": "markdown",
   "metadata": {},
   "source": [
    "![Kurtosis](../img/ch02/eda1/8.jpg)"
   ]
  },
  {
   "cell_type": "markdown",
   "metadata": {},
   "source": [
    "![Inter Quantile Range](../img/ch02/eda1/9.png)"
   ]
  },
  {
   "cell_type": "markdown",
   "metadata": {},
   "source": [
    "![Box-plot](../img/ch02/eda1/10.jpg)"
   ]
  },
  {
   "cell_type": "markdown",
   "metadata": {},
   "source": [
    "![Outliers and Extremes](../img/ch02/eda1/11.png)"
   ]
  },
  {
   "cell_type": "markdown",
   "metadata": {},
   "source": [
    "![Correlation Coefficient](../img/ch02/eda1/12.jpg)"
   ]
  },
  {
   "cell_type": "markdown",
   "metadata": {},
   "source": [
    "![Interpretation of Correlation](../img/ch02/eda1/13.jpg)"
   ]
  },
  {
   "cell_type": "markdown",
   "metadata": {},
   "source": [
    "![Direction of Correlation](../img/ch02/eda1/14.jpg)"
   ]
  },
  {
   "cell_type": "markdown",
   "metadata": {},
   "source": [
    "![Types of Correlation](../img/ch02/eda1/15.jpg)"
   ]
  },
  {
   "cell_type": "code",
   "execution_count": 22,
   "metadata": {},
   "outputs": [
    {
     "data": {
      "text/html": [
       "<iframe src=http://blog.cloudera.com/blog/2015/12/common-probability-distributions-the-data-scientists-crib-sheet/ width=800 height=350></iframe>"
      ],
      "text/plain": [
       "<IPython.core.display.HTML object>"
      ]
     },
     "execution_count": 22,
     "metadata": {},
     "output_type": "execute_result"
    }
   ],
   "source": [
    "from IPython.core.display import HTML\n",
    "page = \"http://blog.cloudera.com/blog/2015/12/common-probability-distributions-the-data-scientists-crib-sheet/\"\n",
    "HTML(\"<iframe src=\" + page + \" width=800 height=350></iframe>\")"
   ]
  }
 ],
 "metadata": {
  "kernelspec": {
   "display_name": "Python 3",
   "language": "python",
   "name": "python3"
  },
  "language_info": {
   "codemirror_mode": {
    "name": "ipython",
    "version": 3
   },
   "file_extension": ".py",
   "mimetype": "text/x-python",
   "name": "python",
   "nbconvert_exporter": "python",
   "pygments_lexer": "ipython3",
   "version": "3.6.5"
  }
 },
 "nbformat": 4,
 "nbformat_minor": 2
}
