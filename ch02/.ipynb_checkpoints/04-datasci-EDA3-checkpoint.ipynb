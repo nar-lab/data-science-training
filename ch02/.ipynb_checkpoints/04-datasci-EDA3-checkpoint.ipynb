{
 "cells": [
  {
   "cell_type": "markdown",
   "metadata": {},
   "source": [
    "# ADVANCED ANALYTICS 2018\n",
    "_Author: Ali Çabukel_"
   ]
  },
  {
   "cell_type": "markdown",
   "metadata": {},
   "source": [
    "## Exploratory Data Analysis and Feature Engineering\n",
    "- Feature Extraction and Dimensionality Reduction\n",
    "    + Matrix factorization techniques can be used for indicating loss of information, reducing dimensions easy to use, also selecting features in correlated features\n",
    "    + Can be applied on sparse data to reduce high dimensionality\n",
    "    + Principal Component Analysis, Singular Value Decomposition, Non-negative Matrix Factorization\n",
    "    + Sparse matrix examples: TF-IDF, Collaborative Filtering User-Item Matrix... \n",
    "\n",
    "### Dimensionality Reduction and Feature Extraction\n",
    "\n",
    "Main usages:\n",
    "\n",
    "- Component/latent feature extraction\n",
    "- Data Compression\n",
    "- Data understanding, bivariate analysis\n",
    "\n",
    "\n",
    "### Principal Component Analysis\n",
    "\n",
    "http://sebastianraschka.com/Articles/2014_pca_step_by_step.html\n",
    "\n",
    "http://www.dataperspective.info/2016/02/principal-component-analysis-using-r.html\n",
    "\n",
    "### Singular Value Decomposition\n",
    "\n",
    "### Non-negative Matrix Factorization"
   ]
  },
  {
   "cell_type": "markdown",
   "metadata": {},
   "source": [
    "![Dimensionality Reduction](../img/ch02/eda3/1.jpg)"
   ]
  },
  {
   "cell_type": "markdown",
   "metadata": {},
   "source": [
    "![Principal Component Analysis](../img/ch02/eda3/2.png)"
   ]
  },
  {
   "cell_type": "markdown",
   "metadata": {},
   "source": [
    "![PCA2](../img/ch02/eda3/3.jpg)"
   ]
  },
  {
   "cell_type": "markdown",
   "metadata": {},
   "source": [
    "![PCA in a Nutshell](../img/ch02/eda3/4.jpg)"
   ]
  },
  {
   "cell_type": "markdown",
   "metadata": {},
   "source": [
    "![Components of PCA](../img/ch02/eda3/5.jpg)"
   ]
  },
  {
   "cell_type": "markdown",
   "metadata": {},
   "source": [
    "![Singular Value Decomposition](../img/ch02/eda3/6.jpg)"
   ]
  },
  {
   "cell_type": "markdown",
   "metadata": {},
   "source": [
    "![Matrix Decomposition with SVD](../img/ch02/eda3/7.jpg)"
   ]
  },
  {
   "cell_type": "markdown",
   "metadata": {},
   "source": [
    "![Data Compression](../img/ch02/eda3/8.png)"
   ]
  },
  {
   "cell_type": "markdown",
   "metadata": {},
   "source": [
    "![Non-negative Matrix Factorization](../img/ch02/eda3/9.jpg)"
   ]
  },
  {
   "cell_type": "markdown",
   "metadata": {},
   "source": [
    "![Background of NMF](../img/ch02/eda3/10.jpg)"
   ]
  }
 ],
 "metadata": {
  "kernelspec": {
   "display_name": "Python 3",
   "language": "python",
   "name": "python3"
  },
  "language_info": {
   "codemirror_mode": {
    "name": "ipython",
    "version": 3
   },
   "file_extension": ".py",
   "mimetype": "text/x-python",
   "name": "python",
   "nbconvert_exporter": "python",
   "pygments_lexer": "ipython3",
   "version": "3.6.5"
  }
 },
 "nbformat": 4,
 "nbformat_minor": 2
}
