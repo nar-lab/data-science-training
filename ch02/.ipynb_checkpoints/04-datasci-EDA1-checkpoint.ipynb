{
 "cells": [
  {
   "cell_type": "markdown",
   "metadata": {},
   "source": [
    "# ADVANCED ANALYTICS 2018\n",
    "_Author: Ali Çabukel_"
   ]
  },
  {
   "cell_type": "markdown",
   "metadata": {},
   "source": [
    "## Exploratory Data Analysis and Feature Engineering\n",
    "- Data Exploration includes the following categories and techniques:\n",
    "    + Univariate Analysis\n",
    "        - Visual: Histogram, Boxplots, Bar Charts, Line Charts\n",
    "        - Descriptive Statistics: Count, Distinct Count, Mean-Median-Mode, Sum, Min-Max Values, Standart Deviation-Variance\n",
    "        - Can be chosen proper techniqes across analytical data types which are numerical, categorical\n",
    "        - Provided insights from data distributions: central tendancy, dispersion, outliers-extremes \n",
    "    + Bivariate Analysis\n",
    "        - Relations: Covariance, Correlations, Contingency Matrix, Chi-Square, Entropy\n",
    "        - Scatterplots, Stacked Bar Charts, Grouped Bar-Charts, Pareto\n",
    "        - Correlation does not imply causality, it gives information about relation.\n",
    "        - Correlation coeffitions takes values from -1 (negative relation) to +1 (positive relation)\n",
    "        - Can be chosen 0.6 (absolute threshold) to define strong relation\n",
    "    + Multivariate Analysis\n",
    "\n",
    "There is some popular frameworks for data visualization, namely ggplot2, Plot.ly, matplotlib, seaborn, D3.js...\n",
    "\n",
    "Common Probability Distributions: http://blog.cloudera.com/blog/2015/12/common-probability-distributions-the-data-scientists-crib-sheet/\n",
    "\n",
    "\n",
    "### Gaussian Distribution and Histogram\n",
    "### Inter-Quantile Range and Boxplot\n",
    "### Correlation Coefficient"
   ]
  },
  {
   "cell_type": "markdown",
   "metadata": {},
   "source": [
    "![visual](45.png)"
   ]
  },
  {
   "cell_type": "markdown",
   "metadata": {},
   "source": [
    "![eda](46.jpg)"
   ]
  },
  {
   "cell_type": "markdown",
   "metadata": {},
   "source": [
    "![analysis types](48.png)"
   ]
  },
  {
   "cell_type": "markdown",
   "metadata": {},
   "source": [
    "![distributions](47.png)"
   ]
  },
  {
   "cell_type": "markdown",
   "metadata": {},
   "source": [
    "![gauss](47.jpg)"
   ]
  },
  {
   "cell_type": "markdown",
   "metadata": {},
   "source": [
    "![Histograms](48.1.png)"
   ]
  },
  {
   "cell_type": "markdown",
   "metadata": {},
   "source": [
    "![skewness](49.jpg)"
   ]
  },
  {
   "cell_type": "markdown",
   "metadata": {},
   "source": [
    "![kurtosis](50.jpg)"
   ]
  },
  {
   "cell_type": "markdown",
   "metadata": {},
   "source": [
    "![iqr](52.png)"
   ]
  },
  {
   "cell_type": "markdown",
   "metadata": {},
   "source": [
    "![box1](53.jpg)"
   ]
  },
  {
   "cell_type": "markdown",
   "metadata": {},
   "source": [
    "![box2](54.png)"
   ]
  },
  {
   "cell_type": "markdown",
   "metadata": {},
   "source": [
    "![rho](55.jpg)"
   ]
  },
  {
   "cell_type": "markdown",
   "metadata": {},
   "source": [
    "![relation level](56.jpg)"
   ]
  },
  {
   "cell_type": "markdown",
   "metadata": {},
   "source": [
    "![direction](57.JPG)"
   ]
  },
  {
   "cell_type": "markdown",
   "metadata": {},
   "source": [
    "![corr types](58.jpg)"
   ]
  }
 ],
 "metadata": {
  "kernelspec": {
   "display_name": "Python 3",
   "language": "python",
   "name": "python3"
  },
  "language_info": {
   "codemirror_mode": {
    "name": "ipython",
    "version": 3
   },
   "file_extension": ".py",
   "mimetype": "text/x-python",
   "name": "python",
   "nbconvert_exporter": "python",
   "pygments_lexer": "ipython3",
   "version": "3.6.5"
  }
 },
 "nbformat": 4,
 "nbformat_minor": 2
}
