{
 "cells": [
  {
   "cell_type": "markdown",
   "metadata": {},
   "source": [
    "# ADVANCED ANALYTICS 2018\n",
    "_Author: Ali Çabukel_"
   ]
  },
  {
   "cell_type": "markdown",
   "metadata": {},
   "source": [
    "### Evaluation of Classification\n",
    "\n",
    "There is some metrics that can be used for classification model evaluation:\n",
    "- Confussion Matrix: Precision, Recall, F1-Score\n",
    "- ROC Curve: Area Under Curve, Gini Coefficient\n",
    "- Cumulative Gain-Lift Chart\n",
    "\n",
    "You should split the data to measure the performance on taining, testing and validation, also scoring dataset:\n",
    "- You can apply the fitted model on different time period data to understand performance variation by time\n",
    "- You can split the data in 10-fold to validate the model for each %10 split in 10 iteration\n",
    "- For unbalanced distribution of target variable, can be used bootstrapping \n",
    "- Bootstrap sampling technique helps to balance distribution of target\n",
    "- Also bootstrapping is a solution to reduce sampling variance\n",
    "- Sampling techniques: Random, Stratified, bootstrapping (sample with replacement), top N\n",
    "- Cross validation: Hold-out, K-fold (sample without replacement), LOOCV, Repeated CV\n",
    "    \n",
    "Unbalanced target distribution is a common problem for fraud\n",
    "- Undersampling is another solution to balance the distribution\n",
    "- You can use whole fraud cases with a randomized sub-sample of non-fraud cases\n",
    "- Oversampling means that you can simulate and duplicate fraud cases to balance the distribution\n",
    "- Undersampling is a better solution than oversampling\n",
    " \n",
    "### Bias-Variance Tradeoff\n",
    "\n",
    "- Underfitting (Bias): The model can show low performance both training and testing dataset.\n",
    "    + When you face with underfitting problem, you can increase complexity\n",
    "    + Model complexity can be increased by adding new features to models\n",
    "- Overfitting (Variance): The model can perform good on training while performing bad on testing set\n",
    "    + The model learn every details and patterns of training dataset\n",
    "    + The model is not generalized to other data samples\n",
    "    + The solution is to decrease complexity of the model, also increase number of observation size\n",
    "    + You can use regularization term to decrease complexity\n",
    "\n",
    "http://www.listendata.com/2017/02/bias-variance-tradeoff.html"
   ]
  },
  {
   "cell_type": "markdown",
   "metadata": {},
   "source": [
    "![split](76.png)"
   ]
  },
  {
   "cell_type": "markdown",
   "metadata": {},
   "source": [
    "![k-fold](77.jpg)"
   ]
  },
  {
   "cell_type": "markdown",
   "metadata": {},
   "source": [
    "![bs](78.png)"
   ]
  },
  {
   "cell_type": "markdown",
   "metadata": {},
   "source": [
    "![conf](79.png)"
   ]
  },
  {
   "cell_type": "markdown",
   "metadata": {},
   "source": [
    "![roc1](80.png)"
   ]
  },
  {
   "cell_type": "markdown",
   "metadata": {},
   "source": [
    "![roc2](81.png)"
   ]
  },
  {
   "cell_type": "markdown",
   "metadata": {},
   "source": [
    "![roc3](82.png)"
   ]
  },
  {
   "cell_type": "markdown",
   "metadata": {},
   "source": [
    "![lift1](83.png)"
   ]
  },
  {
   "cell_type": "markdown",
   "metadata": {},
   "source": [
    "![lift2](84.png)"
   ]
  },
  {
   "cell_type": "markdown",
   "metadata": {},
   "source": [
    "![bv1](85.jpg)"
   ]
  },
  {
   "cell_type": "markdown",
   "metadata": {},
   "source": [
    "![bv2](86.jpg)"
   ]
  }
 ],
 "metadata": {
  "kernelspec": {
   "display_name": "Python 3",
   "language": "python",
   "name": "python3"
  },
  "language_info": {
   "codemirror_mode": {
    "name": "ipython",
    "version": 3
   },
   "file_extension": ".py",
   "mimetype": "text/x-python",
   "name": "python",
   "nbconvert_exporter": "python",
   "pygments_lexer": "ipython3",
   "version": "3.6.5"
  }
 },
 "nbformat": 4,
 "nbformat_minor": 2
}
