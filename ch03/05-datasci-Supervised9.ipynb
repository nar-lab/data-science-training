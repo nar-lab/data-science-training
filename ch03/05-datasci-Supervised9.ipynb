{
 "cells": [
  {
   "cell_type": "markdown",
   "metadata": {},
   "source": [
    "# ADVANCED ANALYTICS 2018\n",
    "_Author: Ali Çabukel_"
   ]
  },
  {
   "cell_type": "markdown",
   "metadata": {},
   "source": [
    "### k-Nearest Neighbors\n",
    "k-NN is a well-known classification task which is based on neighborhood (distance) logic. You need to give a parameter k, the algorithm tries to classify the single point looking for nearest data points' (#k) classes.\n",
    "\n",
    "- k-NN is also used for regression tasks\n",
    "- Euclidean distance is generally used for calculation of distance\n",
    "- The k-NN is a \"lazy learning\" system and it can not be preferred for large-scale problems because of memory management\n",
    "    + It can be a useful tool for missing value imputation or some pre-processing tasks instead of modelling\n",
    "- It's not easy to choose optimal k value. Can be decided to it based on trials.\n",
    "    + If you choose a small k-value, i.e. 1, your model will tend to classify the new cases using the most frequent class level (overfitting problem, high-variance)\n",
    "    + If you choose a big k-value, let's say 10, your model will be more robust but can be seen underfitting problem (high bias)\n",
    "    + Optimal k-values depends on your dataset, you need to find optimal k with your trials\n",
    "- There is some other distance metrics can be used like Minkowski, Hamming, Manhattan... \n",
    "- Can be represented as Voronoi diagram"
   ]
  },
  {
   "cell_type": "markdown",
   "metadata": {},
   "source": [
    "![Distance Functions for k-NN](../img/ch03/supervised8/1.png)"
   ]
  },
  {
   "cell_type": "markdown",
   "metadata": {},
   "source": [
    "![Lazy Learning](../img/ch03/supervised8/2.png)"
   ]
  },
  {
   "cell_type": "markdown",
   "metadata": {},
   "source": [
    "![kNN Overview](../img/ch03/supervised8/3.jpg)"
   ]
  }
 ],
 "metadata": {
  "kernelspec": {
   "display_name": "Python 3",
   "language": "python",
   "name": "python3"
  },
  "language_info": {
   "codemirror_mode": {
    "name": "ipython",
    "version": 3
   },
   "file_extension": ".py",
   "mimetype": "text/x-python",
   "name": "python",
   "nbconvert_exporter": "python",
   "pygments_lexer": "ipython3",
   "version": "3.6.5"
  }
 },
 "nbformat": 4,
 "nbformat_minor": 2
}
